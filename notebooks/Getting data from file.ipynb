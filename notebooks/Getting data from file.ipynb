{
 "cells": [
  {
   "cell_type": "markdown",
   "metadata": {
    "collapsed": true
   },
   "source": [
    "Neste notebook realizaremos o protótipo da leitura dos arquivos do dataset \n",
    "de caracteres japoneses escritos a mão.\n",
    "\n",
    "Começaremos com as definições básicas do caminho do arquio e importação de módulos auxiliares necessários.\n"
   ]
  },
  {
   "cell_type": "code",
   "execution_count": 1,
   "metadata": {},
   "outputs": [],
   "source": [
    "FILE_NAME = \"/Users/harielgiacomuzzi/Google Drive/Deep Learning/Hiragana-Recognizer/data/ETL8G/ETL8G_01\"\n",
    "\n",
    "import struct\n",
    "from PIL import Image"
   ]
  },
  {
   "cell_type": "markdown",
   "metadata": {},
   "source": [
    "agora abrimos o arquivo em modo de leitura e extraimos os dados de um único registro para testes.\n",
    "as informações sobre o formato dos dados estão dispostas [aqui](http://etlcdb.db.aist.go.jp/?page_id=2461)"
   ]
  },
  {
   "cell_type": "code",
   "execution_count": 2,
   "metadata": {},
   "outputs": [],
   "source": [
    "record_raw = None\n",
    "with open(FILE_NAME, 'r') as file:\n",
    "    record_id = 0\n",
    "    record_size = 8199 # this information was taken from the dataset definition\n",
    "    file.seek(record_id * record_size)\n",
    "    record_raw = file.read(record_size)"
   ]
  },
  {
   "cell_type": "markdown",
   "metadata": {},
   "source": [
    "uma vez que temos os dados brutos do registro, podemos fazer a descompressão dos dados e encodar a imagem novamente para um formato que possa ser visualizada."
   ]
  },
  {
   "cell_type": "code",
   "execution_count": 13,
   "metadata": {},
   "outputs": [
    {
     "data": {
      "image/png": "[encoded data removed]",
      "text/plain": [
       "<PIL.Image.Image image mode=L size=128x127 at 0x10CEF2390>"
      ]
     },
     "metadata": {},
     "output_type": "display_data"
    }
   ],
   "source": [
    "record_raw = struct.unpack('>2H8sI4B4H2B30x8128s11x', record_raw)\n",
    "aux_image = Image.frombytes('F', (128, 127), record_raw[14], 'bit', 4)\n",
    "aux_image = aux_image.convert('L')\n",
    "record_image = Image.eval(aux_image, lambda x: 255-x*16)\n",
    "record_image"
   ]
  },
  {
   "cell_type": "markdown",
   "metadata": {},
   "source": [
    "e também podemos acessar os metadados do registro através do objeto record_raw que agora estando descompactado é uma lista com os atributos contidos nos metadados do registro."
   ]
  },
  {
   "cell_type": "code",
   "execution_count": 15,
   "metadata": {},
   "outputs": [
    {
     "data": {
      "text/plain": [
       "'A.HIRA  '"
      ]
     },
     "execution_count": 15,
     "metadata": {},
     "output_type": "execute_result"
    }
   ],
   "source": [
    "record_raw[2]"
   ]
  },
  {
   "cell_type": "code",
   "execution_count": null,
   "metadata": {},
   "outputs": [],
   "source": []
  }
 ],
 "metadata": {
  "kernelspec": {
   "display_name": "Python 2",
   "language": "python",
   "name": "python2"
  },
  "language_info": {
   "codemirror_mode": {
    "name": "ipython",
    "version": 2
   },
   "file_extension": ".py",
   "mimetype": "text/x-python",
   "name": "python",
   "nbconvert_exporter": "python",
   "pygments_lexer": "ipython2",
   "version": "2.7.6"
  }
 },
 "nbformat": 4,
 "nbformat_minor": 0
}
